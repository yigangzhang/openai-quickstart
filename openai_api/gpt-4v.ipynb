{
 "cells": [
  {
   "cell_type": "markdown",
   "id": "b4b6a552-b7f0-433d-9a70-61c4fcc52d5d",
   "metadata": {},
   "source": [
    "# 快速入门 GPT-4 Vison\n",
    "\n",
    "从历史上看，语言模型系统仅接受**文本**作为输入。但是单一的输入形式，限制了大模型的应用落地范围。\n",
    "\n",
    "随着技术发展，OpenAI 开发的 GPT-4 Turbo with Vision（简称 GPT-4V）允许模型接收**图像**作为输入，并回答关于它们的问题。\n",
    "\n",
    "📢注意，目前在 Assistants API 中使用 GPT-4 时还不支持图像输入。"
   ]
  },
  {
   "cell_type": "markdown",
   "id": "3a701c56-0a2a-4dea-b458-234150b84ff2",
   "metadata": {},
   "source": [
    "## 使用 GPT-4V 识别线上图像（URL）\n",
    "\n",
    "![image_sample](https://upload.wikimedia.org/wikipedia/commons/thumb/d/dd/Gfp-wisconsin-madison-the-nature-boardwalk.jpg/2560px-Gfp-wisconsin-madison-the-nature-boardwalk.jpg)"
   ]
  },
  {
   "cell_type": "code",
   "execution_count": 2,
   "id": "bf8689b2-94f2-4a35-a332-9ffed0a56aca",
   "metadata": {},
   "outputs": [
    {
     "name": "stdout",
     "output_type": "stream",
     "text": [
      "Choice(finish_reason='stop', index=0, logprobs=None, message=ChatCompletionMessage(content='这幅图展示了一个美丽的自然风景。图中有一条木制的栈道穿过一片绿色的草地，引人向远处漫步。栈道两侧的草丛高密，看起来非常生机勃勃。天空是晴朗的，有几朵散布的白云，增添了一种平静而广阔的感觉。远处的树木和丰富的绿色植被与蓝天形成了鲜明的对比。\\n\\n整体上，这是一幅引人入胜的自然风光照片，适合用来展示大自然的宁静和美丽，也可能吸引人们去户外探索和放松心情。这种环境通常适合散步、思考或进行摄影，作为远离城市喧嚣的一片净土。', refusal=None, role='assistant', audio=None, function_call=None, tool_calls=None))\n"
     ]
    }
   ],
   "source": [
    "from openai import OpenAI\n",
    "\n",
    "client = OpenAI()\n",
    "\n",
    "response = client.chat.completions.create(\n",
    "  model=\"gpt-4-turbo\",\n",
    "  messages=[\n",
    "    {\n",
    "      \"role\": \"user\",\n",
    "      \"content\": [\n",
    "        {\"type\": \"text\", \"text\": \"介绍下这幅图?\"},\n",
    "        {\n",
    "          \"type\": \"image_url\",\n",
    "          \"image_url\": {\n",
    "            \"url\": \"https://upload.wikimedia.org/wikipedia/commons/thumb/d/dd/Gfp-wisconsin-madison-the-nature-boardwalk.jpg/2560px-Gfp-wisconsin-madison-the-nature-boardwalk.jpg\",\n",
    "          },\n",
    "        },\n",
    "      ],\n",
    "    }\n",
    "  ],\n",
    "  max_tokens=300,\n",
    ")\n",
    "\n",
    "print(response.choices[0])"
   ]
  },
  {
   "cell_type": "code",
   "execution_count": 3,
   "id": "9bcc9026-7485-428f-8269-ea9ae41405cb",
   "metadata": {},
   "outputs": [
    {
     "data": {
      "text/plain": [
       "'这幅图展示了一个美丽的自然风景。图中有一条木制的栈道穿过一片绿色的草地，引人向远处漫步。栈道两侧的草丛高密，看起来非常生机勃勃。天空是晴朗的，有几朵散布的白云，增添了一种平静而广阔的感觉。远处的树木和丰富的绿色植被与蓝天形成了鲜明的对比。\\n\\n整体上，这是一幅引人入胜的自然风光照片，适合用来展示大自然的宁静和美丽，也可能吸引人们去户外探索和放松心情。这种环境通常适合散步、思考或进行摄影，作为远离城市喧嚣的一片净土。'"
      ]
     },
     "execution_count": 3,
     "metadata": {},
     "output_type": "execute_result"
    }
   ],
   "source": [
    "response.choices[0].message.content"
   ]
  },
  {
   "cell_type": "markdown",
   "id": "7fb50a14-fa14-4c63-9f81-b98b0f65d9d9",
   "metadata": {},
   "source": [
    "### 封装成一个函数 query_image_description"
   ]
  },
  {
   "cell_type": "code",
   "execution_count": 4,
   "id": "c1ca5428-c7e1-4d7e-91f1-d4a05e95ac51",
   "metadata": {},
   "outputs": [],
   "source": [
    "def query_image_description(url, prompt=\"介绍下这幅图?\"):\n",
    "    client = OpenAI()  # 初始化 OpenAI 客户端\n",
    "    \n",
    "    # 发送请求给 OpenAI 的聊天模型\n",
    "    response = client.chat.completions.create(\n",
    "        model=\"gpt-4-turbo\",  # 指定使用的模型\n",
    "        messages=[\n",
    "            {\n",
    "                \"role\": \"user\",\n",
    "                \"content\": [\n",
    "                    {\"type\": \"text\", \"text\": prompt},\n",
    "                    {\"type\": \"image_url\", \"image_url\": {\"url\": url}},\n",
    "                ],\n",
    "            }\n",
    "        ],\n",
    "        max_tokens=300,\n",
    "    )\n",
    "    \n",
    "    # 返回模型的响应\n",
    "    return response.choices[0].message.content\n"
   ]
  },
  {
   "cell_type": "markdown",
   "id": "a0d0aceb-7cc5-4da1-b6db-e47716ba145a",
   "metadata": {},
   "source": [
    "### 调用函数测试\n",
    "\n",
    "![meme_0](https://p6.itc.cn/q_70/images03/20200602/0c267a0d3d814c9783659eb956969ba1.jpeg)"
   ]
  },
  {
   "cell_type": "code",
   "execution_count": 5,
   "id": "454abb5c-49d3-42e6-867e-f44e25af5e0e",
   "metadata": {},
   "outputs": [
    {
     "name": "stdout",
     "output_type": "stream",
     "text": [
      "这幅图展示了两种幽默的狗的插画：左侧是一只身体肌肉发达像人类的狗，被赋予了“16岁的我”（即想象中的自己）的标签；右侧是一只普通体态的狗，被称为“工作后的我”，看起来比较平常和疲惫。\n",
      "\n",
      "图中左侧的狗插画带有夸张的人类肌肉，给人一种强壮和自信的形象，标签下的中文文字“我刚健一个光阴，身体素质高，成长质量好”意味着年轻时的自我理想化和健康形象。\n",
      "\n",
      "右侧的狗看起来更接近实际的狗的样子，表情稍显懒散和疲惫，标签下的文字“好紧张然，好难熬疲劳，无法得不补充，能源快要没电，就要直接关机\n"
     ]
    }
   ],
   "source": [
    "image_url = \"https://p6.itc.cn/q_70/images03/20200602/0c267a0d3d814c9783659eb956969ba1.jpeg\"\n",
    "content = query_image_description(image_url)\n",
    "print(content)"
   ]
  },
  {
   "cell_type": "code",
   "execution_count": null,
   "id": "2471306a-84e2-4793-b065-0741fbe57262",
   "metadata": {},
   "outputs": [],
   "source": []
  },
  {
   "cell_type": "code",
   "execution_count": null,
   "id": "af79850f-83b5-49c4-a3f3-f2c01a28f458",
   "metadata": {},
   "outputs": [],
   "source": []
  },
  {
   "cell_type": "markdown",
   "id": "63ae05bd-872c-4638-8259-df4f420aaa1d",
   "metadata": {},
   "source": [
    "### 使用 GPT-4V 识别本地图像文件（Base64编码）\n"
   ]
  },
  {
   "cell_type": "code",
   "execution_count": 6,
   "id": "1e83da68-d387-46da-8236-78fc607d1fab",
   "metadata": {},
   "outputs": [],
   "source": [
    "from openai import OpenAI\n",
    "import base64\n",
    "import requests\n",
    "import json\n",
    "\n",
    "client = OpenAI()  # 初始化 OpenAI 客户端\n",
    "\n",
    "def query_base64_image_description(image_path, prompt=\"解释下图里的内容？\", max_tokens=1000):\n",
    "\n",
    "    # 实现 Base64 编码\n",
    "    def encode_image(path):\n",
    "        with open(path, \"rb\") as image_file:\n",
    "            return base64.b64encode(image_file.read()).decode('utf-8')\n",
    "\n",
    "    # 获取图像的 Base64 编码字符串\n",
    "    base64_image = encode_image(image_path)\n",
    "\n",
    "    # 构造请求的 HTTP Header\n",
    "    headers = {\n",
    "        \"Content-Type\": \"application/json\",\n",
    "        \"Authorization\": f\"Bearer {client.api_key}\"\n",
    "    }\n",
    "\n",
    "    # 构造请求的负载\n",
    "    payload = {\n",
    "        \"model\": \"gpt-4-turbo\",\n",
    "        \"messages\": [\n",
    "            {\n",
    "                \"role\": \"user\",\n",
    "                \"content\": [\n",
    "                    {\"type\": \"text\", \"text\": prompt},\n",
    "                    {\"type\": \"image_url\", \"image_url\": {\"url\": f\"data:image/jpeg;base64,{base64_image}\"}}\n",
    "                ]\n",
    "            }\n",
    "        ],\n",
    "        \"max_tokens\": max_tokens\n",
    "    }\n",
    "\n",
    "    # 发送 HTTP 请求\n",
    "    response = requests.post(\"https://api.openai.com/v1/chat/completions\", headers=headers, json=payload)\n",
    "\n",
    "    # 检查响应并提取所需的 content 字段\n",
    "    if response.status_code == 200:\n",
    "        response_data = response.json()\n",
    "        content = response_data['choices'][0]['message']['content']\n",
    "        return content\n",
    "    else:\n",
    "        return f\"Error: {response.status_code}, {response.text}\""
   ]
  },
  {
   "cell_type": "markdown",
   "id": "89dd0f99-8086-473f-80a4-497e6dd07c17",
   "metadata": {},
   "source": [
    "#### 使用 Assistants API生成的 GDP 40年对比曲线图\n",
    "\n",
    "![gdp_data](./images/gdp_1980_2020.jpg)"
   ]
  },
  {
   "cell_type": "code",
   "execution_count": 7,
   "id": "3c0e9063-e8d9-4bc1-ae60-ad0aa5bee32b",
   "metadata": {},
   "outputs": [
    {
     "name": "stdout",
     "output_type": "stream",
     "text": [
      "这幅图表展示了1980年到2020年间美国、中国、日本和德国的国内生产总值（GDP）对比。横轴代表年份，纵轴代表GDP总量（单位是万亿美元）。\n",
      "\n",
      "- 蓝色线代表美国，可以看出美国的GDP从1980年起持续上升，到2020年时超过20万亿美元。\n",
      "- 红色线代表中国，其GDP在1990年代中期开始显著增长，2000年后增长速度更是显著，至2020年接近15万亿美元。\n",
      "- 紫色线代表日本，其GDP在1990年代达到顶峰后有所波动，但整体呈平稳状态，在5万亿到6万亿美元之间。\n",
      "- 绿色线代表德国，其GDP相对平稳，增长幅度较小，到2020年时约为4万亿美元。\n",
      "\n",
      "此图表有效地展现了这四个国家经济增长的趋势和速度，尤其突出了中国的快速增长。\n"
     ]
    }
   ],
   "source": [
    "content = query_base64_image_description(\"./images/gdp_1980_2020.jpg\")\n",
    "print(content)"
   ]
  },
  {
   "cell_type": "markdown",
   "id": "6d18b227-32a6-4450-86bd-c99ad5c533b9",
   "metadata": {},
   "source": [
    "#### 使用 GPT-4V 识别手写体笔记\n",
    "\n",
    "![](./images/handwriting_0.jpg)"
   ]
  },
  {
   "cell_type": "code",
   "execution_count": 8,
   "id": "4193fa11-5edd-404c-9472-0cb8cc6799fc",
   "metadata": {},
   "outputs": [
    {
     "name": "stdout",
     "output_type": "stream",
     "text": [
      "这张图片显示的是一本笔记本上的笔记，主要内容是关于自然语言处理（NLP）中的各种模型调优方法。这些笔记包括了以下几个部分：\n",
      "\n",
      "1. **Prompt Tuning（提示调优）**：笔记提到了利用少量模型（例如FMT或small model）进行prompt tuning。其中，X代表输入的嵌入向量序列，X'是经过添加特殊token进行扩展后的序列，Y为输出，通过W矩阵和X'的乘积得到。\n",
      "\n",
      "2. **Prefix Tuning（前缀调优）**：在这种调优策略中，W'是由特定的前缀Wp和原始的W拼接而成，以此来调整Transformer模型的Encoder/Decoder的行为。\n",
      "\n",
      "3. **LoRA调权技术**：此部分介绍了LoRA（Low-Rank Adaptation）技术。这里使用的是低秩矩阵分解的方法来进行权重的调整，其中ΔW = AB，A和B是较低维度的矩阵，这使得可以在不显著增加模型大小的情况下调整模型权重。\n",
      "\n",
      "4. **和LAMA-65以及QLoRA-4GB的提示性能比较数据**：这些内容可能是对比不同调优技术在特定数据集或性能指标上的表现。\n",
      "\n",
      "笔记本上的文字是用中文书写的，涵盖了深入的技术细节和一些专业术语，指向深层次的技术讨论和研究。\n"
     ]
    }
   ],
   "source": [
    "content = query_base64_image_description(\"./images/handwriting_0.jpg\")\n",
    "print(content)"
   ]
  },
  {
   "cell_type": "markdown",
   "id": "ca046601-018c-455c-ace2-41392cbda456",
   "metadata": {},
   "source": [
    "#### 在 Jupyter 标准输出中渲染 Markdown 格式内容"
   ]
  },
  {
   "cell_type": "code",
   "execution_count": 9,
   "id": "516ee35b-1337-4b22-aea2-ee0adb706098",
   "metadata": {},
   "outputs": [
    {
     "data": {
      "text/markdown": [
       "这张图片显示的是一本笔记本上的笔记，主要内容是关于自然语言处理（NLP）中的各种模型调优方法。这些笔记包括了以下几个部分：\n",
       "\n",
       "1. **Prompt Tuning（提示调优）**：笔记提到了利用少量模型（例如FMT或small model）进行prompt tuning。其中，X代表输入的嵌入向量序列，X'是经过添加特殊token进行扩展后的序列，Y为输出，通过W矩阵和X'的乘积得到。\n",
       "\n",
       "2. **Prefix Tuning（前缀调优）**：在这种调优策略中，W'是由特定的前缀Wp和原始的W拼接而成，以此来调整Transformer模型的Encoder/Decoder的行为。\n",
       "\n",
       "3. **LoRA调权技术**：此部分介绍了LoRA（Low-Rank Adaptation）技术。这里使用的是低秩矩阵分解的方法来进行权重的调整，其中ΔW = AB，A和B是较低维度的矩阵，这使得可以在不显著增加模型大小的情况下调整模型权重。\n",
       "\n",
       "4. **和LAMA-65以及QLoRA-4GB的提示性能比较数据**：这些内容可能是对比不同调优技术在特定数据集或性能指标上的表现。\n",
       "\n",
       "笔记本上的文字是用中文书写的，涵盖了深入的技术细节和一些专业术语，指向深层次的技术讨论和研究。"
      ],
      "text/plain": [
       "<IPython.core.display.Markdown object>"
      ]
     },
     "metadata": {},
     "output_type": "display_data"
    }
   ],
   "source": [
    "from IPython.display import display, Markdown\n",
    "\n",
    "# 使用 display 和 Markdown 函数显示 Markdown 内容\n",
    "display(Markdown(content))"
   ]
  },
  {
   "cell_type": "markdown",
   "id": "b72ebbe3-87cc-4867-9cf0-62e5ed684482",
   "metadata": {},
   "source": [
    "![](./images/handwriting_1.jpg)"
   ]
  },
  {
   "cell_type": "code",
   "execution_count": 10,
   "id": "7c046958-aa7a-4066-88fa-4134869d9226",
   "metadata": {},
   "outputs": [
    {
     "data": {
      "text/markdown": [
       "这张图片展示了一本笔记本的两页内容，主要记录了关于自然语言处理（NLP）领域中智能模型（尤其是Transformer模型）和调优方法的笔记。内容涉及现代机器学习技术的各种策略，特别是在大型语言模型（Large Language Models, LLMs）的调优上。\n",
       "\n",
       "左页的内容主要聚焦在PEFT（可能是指某种模型调优方法的缩写或特定的学术术语）和各种基于prompt（提示）的调优方法。包括：\n",
       "\n",
       "- Adapter、Prefix、Prompt Tuning等方法，这些都是不同的模型微调方法。\n",
       "- 提到了一些文献或来源，例如Google、Stanford等。\n",
       "- 记录了一系列相关技术和方法，如Soft Prompts、Instruction Tuning等。\n",
       "- 细缀了相关的模型名称或技术，如LGPT、BLOOM、CLAiRE、ChatGLM等。\n",
       "\n",
       "右页内容则覆盖了：\n",
       "\n",
       "- 多模态指导微调（multi-modality instruction fine-tuning）的方法，如LLaMA（3B）。\n",
       "- LORA、GLoRA等新策略和技术的名称。\n",
       "- 对Adapters和各种调优方法（如Refine、MAM Adapters等）的进一步讨论和对比分析。\n",
       "- 提到了更具体的调优技术，如scaled parallel adapters、MAM Adaptors等，并讨论了SOTA（State Of The Art）结果的改进。\n",
       "\n",
       "这些笔记显然是为了记载和学习关于最新的NLP模型调优技术和方法的最新进展，适用于研究者或学生在学习或研究NLP及人工智能领域时使用。"
      ],
      "text/plain": [
       "<IPython.core.display.Markdown object>"
      ]
     },
     "metadata": {},
     "output_type": "display_data"
    }
   ],
   "source": [
    "content = query_base64_image_description(\"./images/handwriting_1.jpg\")\n",
    "display(Markdown(content))"
   ]
  },
  {
   "cell_type": "code",
   "execution_count": null,
   "id": "156a0f17-cca8-4f01-9ce5-53384b5ffda4",
   "metadata": {},
   "outputs": [],
   "source": []
  },
  {
   "cell_type": "code",
   "execution_count": null,
   "id": "e3bd772f-9492-4f6c-b05a-666b772ca3c9",
   "metadata": {},
   "outputs": [],
   "source": []
  },
  {
   "cell_type": "code",
   "execution_count": null,
   "id": "8afdeacb-aac1-4692-be2b-fb7957ba5e8f",
   "metadata": {},
   "outputs": [],
   "source": []
  },
  {
   "cell_type": "markdown",
   "id": "79a8d459-d98e-4215-9fbf-38ad37080475",
   "metadata": {},
   "source": [
    "## Homework: \n",
    "\n",
    "\n",
    "### #1\n",
    "\n",
    "使用 GPT-4V 识别带有手写体文字的本地图像文件，分享结果。\n",
    "\n",
    "### #2\n",
    "\n",
    "整合 `query_base64_image_description` 函数和 Markdown 格式渲染方法，使得输出结果更易阅读。"
   ]
  },
  {
   "cell_type": "code",
   "execution_count": 13,
   "id": "0909bf27-9c4a-498c-9fae-0f442062b9a8",
   "metadata": {},
   "outputs": [],
   "source": [
    "def display_image_description(image_path, prompt=\"解释下图里的内容？\"):\n",
    "    \"\"\"\n",
    "    读取图像文件，获取描述并以Markdown格式显示结果\n",
    "    \n",
    "    Args:\n",
    "        image_path: 图像文件路径\n",
    "    \"\"\"\n",
    "    # 获取图像描述\n",
    "    description = query_base64_image_description(image_path, prompt)\n",
    "    \n",
    "    # 构建Markdown格式的输出\n",
    "    markdown_content = f\"\"\"\n",
    "## 图像描述\n",
    "\n",
    "![图像]({image_path})\n",
    "\n",
    "### GPT-4V 识别结果：\n",
    "\n",
    "{description}\n",
    "\"\"\"\n",
    "    \n",
    "    # 显示格式化后的结果\n",
    "    display(Markdown(markdown_content))\n",
    "\n",
    "# 测试函数\n",
    "# display_image_description(\"./images/handwriting_1.jpg\")\n"
   ]
  },
  {
   "cell_type": "code",
   "execution_count": 15,
   "id": "9917a0bd",
   "metadata": {},
   "outputs": [
    {
     "data": {
      "text/markdown": [
       "\n",
       "## 图像描述\n",
       "\n",
       "![图像](./images/sam_handwriting.jpg)\n",
       "\n",
       "### GPT-4V 识别结果：\n",
       "\n",
       "图中的文字主要涉及一个流程或步骤的说明，带有多个方框、圆圈和箭头，显示了不同阶段和决策点。以下是图中各部分的内容：\n",
       "\n",
       "1. 最顶端左侧写着：“传导”、“生活”、“D366”。\n",
       "2. 右上角有一段数学表达式：“10...1+1=?”。\n",
       "3. 中间部分有各种箭头连接的方框和圆圈，方框里写着“问题ID”，“问题简述”等。\n",
       "4. 方框之间的连接箭头上有注释，例如“基础故障，故障分析”，“引导至知识库”。\n",
       "5. 左侧部分有个大圆圈环绕着多个小圆圈，似乎表示一个校验或决策流程，圆圈中有“是”、“否”等决策选项。\n",
       "6. 图中多处还有手写注释，如“全员check”、“发给相关同事”、“追踪反馈”，表明这可能是一个协作或问题解决的流程。\n",
       "\n",
       "总体来看，该图似乎是某种事务处理或故障处理的流程图，涉及问题识别、分析及解决策略的多个步骤。\n"
      ],
      "text/plain": [
       "<IPython.core.display.Markdown object>"
      ]
     },
     "metadata": {},
     "output_type": "display_data"
    }
   ],
   "source": [
    "display_image_description(\"./images/sam_handwriting.jpg\", \"识别图中文字。按照流程步骤，按照原意转述\")"
   ]
  },
  {
   "cell_type": "code",
   "execution_count": 16,
   "id": "1eb994b1",
   "metadata": {},
   "outputs": [
    {
     "data": {
      "text/markdown": [
       "\n",
       "## 图像描述\n",
       "\n",
       "![图像](./images/sam_handwriting2.jpg)\n",
       "\n",
       "### GPT-4V 识别结果：\n",
       "\n",
       "这张图片显示的是一张记录了多个日期和对应笔记的纸张。笔记主要涉及编程和软件开发的相关内容，例如Visual Studio使用、代码管理、项目文件探查等。内容有中英文混杂，说明记录者可能在使用中英文环境进行工作或学习。\n",
       "\n",
       "- 2023年8月9日的记录提到了关于视图和控制器的提问和查找方法。\n",
       "- 2023年8月10日的记录看似涉及了使用Visual Studio软件的问题，如如何区分自动生成代码与手动添加代码，如何在解决方案资源管理器中切换项目，以及如何映射和定位数据库表的列等。\n",
       "- 2023年8月11日的记录进一步讨论了Visual Studio的文件和目录结构管理。\n",
       "\n",
       "这些笔记可能是用于个人复习或作为现场开发会议的提点记录用。\n"
      ],
      "text/plain": [
       "<IPython.core.display.Markdown object>"
      ]
     },
     "metadata": {},
     "output_type": "display_data"
    }
   ],
   "source": [
    "display_image_description(\"./images/sam_handwriting2.jpg\", \"解释下图里的内容？\")"
   ]
  },
  {
   "cell_type": "code",
   "execution_count": null,
   "id": "ef6ee92a",
   "metadata": {},
   "outputs": [],
   "source": []
  }
 ],
 "metadata": {
  "kernelspec": {
   "display_name": "Python 3 (ipykernel)",
   "language": "python",
   "name": "python3"
  },
  "language_info": {
   "codemirror_mode": {
    "name": "ipython",
    "version": 3
   },
   "file_extension": ".py",
   "mimetype": "text/x-python",
   "name": "python",
   "nbconvert_exporter": "python",
   "pygments_lexer": "ipython3",
   "version": "3.10.6"
  }
 },
 "nbformat": 4,
 "nbformat_minor": 5
}
